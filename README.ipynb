{
 "cells": [
  {
   "cell_type": "markdown",
   "metadata": {},
   "source": [
    "    pip install git+https://github.com/OlivierBinette/StringCompare.git"
   ]
  },
  {
   "cell_type": "markdown",
   "metadata": {},
   "source": [
    "#### Levenshtein Distance"
   ]
  },
  {
   "cell_type": "code",
   "execution_count": 15,
   "metadata": {},
   "outputs": [
    {
     "data": {
      "text/plain": [
       "0.25"
      ]
     },
     "execution_count": 15,
     "metadata": {},
     "output_type": "execute_result"
    }
   ],
   "source": [
    "from stringcompare import Levenshtein\n",
    "\n",
    "cmp = Levenshtein(normalize=True, similarity=False)\n",
    "cmp.compare(\"Olivier\", \"Oilvier\")"
   ]
  },
  {
   "cell_type": "markdown",
   "metadata": {},
   "source": [
    "#### Longest Common Subsequence (LCS) Distance"
   ]
  },
  {
   "cell_type": "code",
   "execution_count": 13,
   "metadata": {},
   "outputs": [
    {
     "data": {
      "text/plain": [
       "0.25"
      ]
     },
     "execution_count": 13,
     "metadata": {},
     "output_type": "execute_result"
    }
   ],
   "source": [
    "from stringcompare import LCSDistance\n",
    "\n",
    "cmp = LCSDistance(normalize=True, similarity=False)\n",
    "cmp.compare(\"Olivier\", \"Oilvier\")"
   ]
  },
  {
   "cell_type": "markdown",
   "metadata": {},
   "source": [
    "#### Damerau-Levenshtein Distance"
   ]
  },
  {
   "cell_type": "code",
   "execution_count": 12,
   "metadata": {},
   "outputs": [
    {
     "data": {
      "text/plain": [
       "0.13333333333333333"
      ]
     },
     "execution_count": 12,
     "metadata": {},
     "output_type": "execute_result"
    }
   ],
   "source": [
    "from stringcompare import DamerauLevenshtein\n",
    "\n",
    "cmp = DamerauLevenshtein(normalize=True, similarity=False)\n",
    "cmp.compare(\"Olivier\", \"Oilvier\")"
   ]
  },
  {
   "cell_type": "markdown",
   "metadata": {},
   "source": [
    "#### Jaro Distance"
   ]
  },
  {
   "cell_type": "code",
   "execution_count": 6,
   "metadata": {},
   "outputs": [
    {
     "data": {
      "text/plain": [
       "0.04761904761904756"
      ]
     },
     "execution_count": 6,
     "metadata": {},
     "output_type": "execute_result"
    }
   ],
   "source": [
    "from stringcompare import Jaro\n",
    "\n",
    "cmp = Jaro(similarity=False)\n",
    "cmp.compare(\"Olivier\", \"Oilvier\")"
   ]
  },
  {
   "cell_type": "markdown",
   "metadata": {},
   "source": [
    "#### Jaro-Winkler Distance"
   ]
  },
  {
   "cell_type": "code",
   "execution_count": 5,
   "metadata": {},
   "outputs": [
    {
     "data": {
      "text/plain": [
       "0.042857142857142816"
      ]
     },
     "execution_count": 5,
     "metadata": {},
     "output_type": "execute_result"
    }
   ],
   "source": [
    "from groupbyrule.comparator import JaroWinkler\n",
    "\n",
    "cmp = JaroWinkler(similarity=False)\n",
    "cmp.compare(\"Olivier\", \"Oilvier\")"
   ]
  }
 ],
 "metadata": {
  "interpreter": {
   "hash": "b582ae4d77d18d658cc55812e32328158e2f45884933450b1021a6ea5c0413ef"
  },
  "kernelspec": {
   "display_name": "Python 3.9.7 64-bit ('groupbyrule': conda)",
   "language": "python",
   "name": "python3"
  },
  "language_info": {
   "codemirror_mode": {
    "name": "ipython",
    "version": 3
   },
   "file_extension": ".py",
   "mimetype": "text/x-python",
   "name": "python",
   "nbconvert_exporter": "python",
   "pygments_lexer": "ipython3",
   "version": "3.7.9"
  },
  "orig_nbformat": 4
 },
 "nbformat": 4,
 "nbformat_minor": 2
}
