{
 "cells": [
  {
   "cell_type": "markdown",
   "metadata": {},
   "source": [
    "# Performance Benchmark"
   ]
  },
  {
   "cell_type": "markdown",
   "metadata": {},
   "source": [
    "🚧 Under construction 🚧"
   ]
  },
  {
   "cell_type": "code",
   "execution_count": 79,
   "metadata": {},
   "outputs": [],
   "source": [
    "import pandas as pd\n",
    "import numpy as np\n",
    "from timeit import timeit\n",
    "import tabulate\n",
    "\n",
    "import stringcompare\n",
    "import jellyfish\n",
    "import py_stringmatching\n",
    "\n",
    "names = pd.read_csv(\"data/REQ-names.csv\", header=None)[0].values"
   ]
  },
  {
   "cell_type": "markdown",
   "metadata": {},
   "source": [
    "## Levenshtein distance"
   ]
  },
  {
   "cell_type": "code",
   "execution_count": 90,
   "metadata": {},
   "outputs": [
    {
     "name": "stdout",
     "output_type": "stream",
     "text": [
      "stringcompare: \t\t 1.3243956130008883\n",
      "jellyfish: \t\t 2.030931817000237\n",
      "py_stringmatching: \t 33.7859749069994\n"
     ]
    }
   ],
   "source": [
    "print(\"stringcompare: \\t\\t\", timeit(lambda: stringcompare.Levenshtein().pairwise(names, names), number=1))\n",
    "print(\"jellyfish: \\t\\t\", timeit(lambda: np.array([jellyfish.levenshtein_distance(s, t) for s in names for t in names]), number=1))\n",
    "cmp = py_stringmatching.Levenshtein()\n",
    "print(\"py_stringmatching: \\t\", timeit(lambda: [cmp.get_raw_score(s, t) for s in names for t in names], number=1))"
   ]
  },
  {
   "cell_type": "markdown",
   "metadata": {},
   "source": [
    "## Damerau-Levenshtein distance"
   ]
  },
  {
   "cell_type": "code",
   "execution_count": 93,
   "metadata": {},
   "outputs": [
    {
     "name": "stdout",
     "output_type": "stream",
     "text": [
      "stringcompare: \t\t 2.7019762420004554\n",
      "jellyfish: \t\t 4.423821354999745\n"
     ]
    }
   ],
   "source": [
    "print(\"stringcompare: \\t\\t\", timeit(lambda: stringcompare.DamerauLevenshtein().pairwise(names, names), number=1))\n",
    "print(\"jellyfish: \\t\\t\", timeit(lambda: [jellyfish.damerau_levenshtein_distance(s, t) for s in names for t in names], number=1))"
   ]
  },
  {
   "cell_type": "markdown",
   "metadata": {},
   "source": [
    "## Jaro distance"
   ]
  },
  {
   "cell_type": "code",
   "execution_count": 95,
   "metadata": {},
   "outputs": [
    {
     "name": "stdout",
     "output_type": "stream",
     "text": [
      "stringcompare: \t\t 1.343546205000166\n",
      "jellyfish: \t\t 1.3307045370002015\n"
     ]
    }
   ],
   "source": [
    "print(\"stringcompare: \\t\\t\", timeit(lambda: stringcompare.Jaro().pairwise(names, names), number=1))\n",
    "print(\"jellyfish: \\t\\t\", timeit(lambda: [jellyfish.jaro_similarity(s, t) for s in names for t in names], number=1))"
   ]
  },
  {
   "cell_type": "markdown",
   "metadata": {},
   "source": [
    "## Jaro-Winkler distance"
   ]
  },
  {
   "cell_type": "code",
   "execution_count": 94,
   "metadata": {},
   "outputs": [
    {
     "name": "stdout",
     "output_type": "stream",
     "text": [
      "stringcompare: \t\t 1.35290373999851\n",
      "jellyfish: \t\t 1.4211493950006115\n"
     ]
    }
   ],
   "source": [
    "print(\"stringcompare: \\t\\t\", timeit(lambda: stringcompare.JaroWinkler().pairwise(names, names), number=1))\n",
    "print(\"jellyfish: \\t\\t\", timeit(lambda: [jellyfish.jaro_winkler_similarity(s, t) for s in names for t in names], number=1))"
   ]
  }
 ],
 "metadata": {
  "interpreter": {
   "hash": "de6d8476f6e3bbb6c90656f4c9fef573803d406133e40deedea6104c9171bc99"
  },
  "kernelspec": {
   "display_name": "Python 3.7.9 ('stringcompare')",
   "language": "python",
   "name": "python3"
  },
  "language_info": {
   "codemirror_mode": {
    "name": "ipython",
    "version": 3
   },
   "file_extension": ".py",
   "mimetype": "text/x-python",
   "name": "python",
   "nbconvert_exporter": "python",
   "pygments_lexer": "ipython3",
   "version": "3.7.9"
  },
  "orig_nbformat": 4
 },
 "nbformat": 4,
 "nbformat_minor": 2
}
