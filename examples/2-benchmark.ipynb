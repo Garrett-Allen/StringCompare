{
 "cells": [
  {
   "cell_type": "markdown",
   "metadata": {},
   "source": [
    "# Performance Benchmark"
   ]
  },
  {
   "cell_type": "code",
   "execution_count": 79,
   "metadata": {},
   "outputs": [],
   "source": [
    "import pandas as pd\n",
    "import numpy as np\n",
    "from timeit import timeit\n",
    "import tabulate\n",
    "\n",
    "import stringcompare\n",
    "import jellyfish\n",
    "import py_stringmatching\n",
    "\n",
    "names = pd.read_csv(\"data/REQ-names.csv\", header=None)[0].values"
   ]
  },
  {
   "cell_type": "markdown",
   "metadata": {},
   "source": [
    "## Levenshtein distance"
   ]
  },
  {
   "cell_type": "code",
   "execution_count": 89,
   "metadata": {},
   "outputs": [
    {
     "name": "stdout",
     "output_type": "stream",
     "text": [
      "stringcompare: \t\t 1.3060542279999936\n",
      "jellyfish: \t\t 1.9761220939999475\n"
     ]
    }
   ],
   "source": [
    "print(\"stringcompare: \\t\\t\", timeit(lambda: stringcompare.Levenshtein().pairwise(names, names), number=1))\n",
    "print(\"jellyfish: \\t\\t\", timeit(lambda: np.array([jellyfish.levenshtein_distance(s, t) for s in names for t in names]), number=1))\n",
    "#cmp = py_stringmatching.Levenshtein()\n",
    "#print(\"py_stringmatching: \\t\", timeit(lambda: [cmp.get_raw_score(s, t) for s in names for t in names], number=1))"
   ]
  },
  {
   "cell_type": "markdown",
   "metadata": {},
   "source": [
    "## Damerau-Levenshtein distance"
   ]
  },
  {
   "cell_type": "code",
   "execution_count": 58,
   "metadata": {},
   "outputs": [
    {
     "name": "stdout",
     "output_type": "stream",
     "text": [
      "stringcompare: \t\t 2.5999224149982183\n",
      "jellyfish: \t\t 4.109643109999524\n"
     ]
    }
   ],
   "source": [
    "print(\"stringcompare: \\t\\t\", timeit(lambda: stringcompare.DamerauLevenshtein().pairwise(names, names), number=1))\n",
    "print(\"jellyfish: \\t\\t\", timeit(lambda: [jellyfish.damerau_levenshtein_distance(s, t) for s in names for t in names], number=1))"
   ]
  },
  {
   "cell_type": "markdown",
   "metadata": {},
   "source": [
    "## Jaro distance"
   ]
  },
  {
   "cell_type": "code",
   "execution_count": 77,
   "metadata": {},
   "outputs": [
    {
     "name": "stdout",
     "output_type": "stream",
     "text": [
      "stringcompare: \t\t 1.4335209550008585\n",
      "jellyfish: \t\t 1.419883378999657\n",
      "python-levenshtein: \t 0.5941870989991003\n"
     ]
    }
   ],
   "source": [
    "print(\"stringcompare: \\t\\t\", timeit(lambda: stringcompare.Jaro().pairwise(names, names), number=1))\n",
    "print(\"jellyfish: \\t\\t\", timeit(lambda: [jellyfish.jaro_similarity(s, t) for s in names for t in names], number=1))"
   ]
  },
  {
   "cell_type": "markdown",
   "metadata": {},
   "source": [
    "## Jaro-Winkler distance"
   ]
  },
  {
   "cell_type": "code",
   "execution_count": 78,
   "metadata": {},
   "outputs": [
    {
     "name": "stdout",
     "output_type": "stream",
     "text": [
      "stringcompare: \t\t 1.393969687000208\n",
      "jellyfish: \t\t 1.4136640050001006\n",
      "python-levenshtein: \t 0.6200407710002764\n"
     ]
    }
   ],
   "source": [
    "print(\"stringcompare: \\t\\t\", timeit(lambda: stringcompare.JaroWinkler().pairwise(names, names), number=1))\n",
    "print(\"jellyfish: \\t\\t\", timeit(lambda: [jellyfish.jaro_winkler_similarity(s, t) for s in names for t in names], number=1))"
   ]
  }
 ],
 "metadata": {
  "interpreter": {
   "hash": "de6d8476f6e3bbb6c90656f4c9fef573803d406133e40deedea6104c9171bc99"
  },
  "kernelspec": {
   "display_name": "Python 3.7.9 ('stringcompare')",
   "language": "python",
   "name": "python3"
  },
  "language_info": {
   "codemirror_mode": {
    "name": "ipython",
    "version": 3
   },
   "file_extension": ".py",
   "mimetype": "text/x-python",
   "name": "python",
   "nbconvert_exporter": "python",
   "pygments_lexer": "ipython3",
   "version": "3.7.9"
  },
  "orig_nbformat": 4
 },
 "nbformat": 4,
 "nbformat_minor": 2
}
