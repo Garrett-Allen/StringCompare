{
 "cells": [
  {
   "cell_type": "markdown",
   "metadata": {},
   "source": [
    "# Getting Started with StringCompare"
   ]
  },
  {
   "cell_type": "markdown",
   "metadata": {},
   "source": [
    "**StringCompare** is a Python package providing efficient string comparison functions, such as [edit distances](https://en.wikipedia.org/wiki/Edit_distance), the [Jaro-Winkler distance](https://en.wikipedia.org/wiki/Jaro%E2%80%93Winkler_distance), and token-based similarity functions (e.g. the [Jaccard similarity index](https://en.wikipedia.org/wiki/Jaccard_index)).\n",
    "\n",
    "The package's backend is implemented in C++ for efficiency. Pure Python implementations are also provided for testing purposes."
   ]
  },
  {
   "cell_type": "markdown",
   "metadata": {},
   "source": [
    "## Installation\n",
    "\n",
    "The development version of **StringCompare** can be installed from Github using [pip](https://pypi.org/project/pip/):"
   ]
  },
  {
   "cell_type": "markdown",
   "metadata": {},
   "source": [
    "```bash\n",
    "    pip install setuptools pybind11\n",
    "    git clone https://github.com/OlivierBinette/StringCompare.git\n",
    "    pip install -e ./StringCompare\n",
    "```"
   ]
  },
  {
   "cell_type": "markdown",
   "metadata": {},
   "source": [
    "You can test the installation by running:"
   ]
  },
  {
   "cell_type": "markdown",
   "metadata": {},
   "source": [
    "```bash\n",
    "    python -c \"import stringcompare\"\n",
    "```"
   ]
  },
  {
   "cell_type": "markdown",
   "metadata": {},
   "source": [
    "If you don't see any error message, then Python was sucessfully able to load **StringCompare**.\n",
    "\n",
    "### Installation Notes\n",
    "\n",
    "We recommended to use **StringCompare** with Python version at least 3.6. If you encounter installation issues, you may have to verify that [pybind11](https://pybind11.readthedocs.io/en/stable/) has been installed correctly for your system.\n",
    "\n",
    "On some linux systems, pybind11 is not compatible with the provided version of gcc. On Ubuntu 21.10, you have to run the following commands before installing **StringCompare**:"
   ]
  },
  {
   "cell_type": "markdown",
   "metadata": {},
   "source": [
    "```bash\n",
    "    sudo apt install gcc-9 g++-9\n",
    "    export CC=gcc-9 CXX=g++-9\n",
    "```"
   ]
  },
  {
   "cell_type": "markdown",
   "metadata": {},
   "source": [
    "You can then reinstall **StringCompare**:\n",
    "```bash\n",
    "    make clean\n",
    "    pip install --force-reinstall -e ./StringCompare\n",
    "```"
   ]
  },
  {
   "cell_type": "markdown",
   "metadata": {},
   "source": [
    "If you have persistent installation issues, then you should consider running your code within a [Docker](https://www.docker.com/) container. I recommend using the python:3.7.9 base image. For example, after installing docker, you can launch an interactive bash session and install **StringCompare** as follows:\n",
    "```bash\n",
    "    sudo docker run -it python:3.7.9 bash\n",
    "    git clone https://github.com/OlivierBinette/StringCompare.git\n",
    "    pip install -e ./StringCompare\n",
    "    python\n",
    "    >>> import stringcompare\n",
    "```\n",
    "\n",
    "Please report all installation issues [here](https://github.com/OlivierBinette/StringCompare/issues)."
   ]
  },
  {
   "cell_type": "markdown",
   "metadata": {},
   "source": [
    "## Structure of the Package"
   ]
  },
  {
   "cell_type": "markdown",
   "metadata": {},
   "source": [
    "**StringCompare** curently has one main module, the **distance** module, which contains string distances functions.\n",
    "\n",
    "Each string distance function is implemented as a class which can be instanciated with a certain set of parameters. The `compare()` function can then be used to compare strings. For example:"
   ]
  },
  {
   "cell_type": "code",
   "execution_count": 6,
   "metadata": {},
   "outputs": [
    {
     "data": {
      "text/plain": [
       "0.26666666666666666"
      ]
     },
     "execution_count": 6,
     "metadata": {},
     "output_type": "execute_result"
    }
   ],
   "source": [
    "from stringcompare import Levenshtein\n",
    "\n",
    "cmp = Levenshtein()\n",
    "cmp.compare(\"Olivier\", \"Olivia\")"
   ]
  },
  {
   "cell_type": "markdown",
   "metadata": {},
   "source": [
    "There are also vectorized forms of the comparison function:"
   ]
  },
  {
   "cell_type": "code",
   "execution_count": 4,
   "metadata": {},
   "outputs": [
    {
     "data": {
      "text/plain": [
       "array([0.26666667, 0.63157895])"
      ]
     },
     "execution_count": 4,
     "metadata": {},
     "output_type": "execute_result"
    }
   ],
   "source": [
    "cmp.elementwise([\"Olivier\", \"Oliver\"], [\"Olivia\", \"Binette\"])"
   ]
  },
  {
   "cell_type": "code",
   "execution_count": 5,
   "metadata": {},
   "outputs": [
    {
     "data": {
      "text/plain": [
       "array([[0.26666667, 0.66666667],\n",
       "       [0.28571429, 0.63157895]])"
      ]
     },
     "execution_count": 5,
     "metadata": {},
     "output_type": "execute_result"
    }
   ],
   "source": [
    "cmp.pairwise([\"Olivier\", \"Oliver\"], [\"Olivia\", \"Binette\"])"
   ]
  },
  {
   "cell_type": "markdown",
   "metadata": {},
   "source": [
    "### Available Functions"
   ]
  },
  {
   "cell_type": "markdown",
   "metadata": {},
   "source": [
    "The following string distance functions are currently implemented:\n",
    "\n",
    "- Levenshtein distance (`Levenshtein`)\n",
    "- Damerau-Levenshtein distance (`DamereauLevenshtein`)\n",
    "- Longest common substring (LCS) distance (`LCSDistance`)\n",
    "- Jaro distance (`Jaro`)\n",
    "- Jaro-Winkler distance (`JaroWinkler`)\n",
    "- Character difference distance (`CharacterDifference`)\n",
    "\n",
    "Refer to the [API documentation](https://olivierbinette.github.io/StringCompare/source/stringcompare.html) for full information."
   ]
  }
 ],
 "metadata": {
  "interpreter": {
   "hash": "ffde1200e4ba7c3d456f07f73c4ba4196efc164b0b303367a1e66ef1ff07a93f"
  },
  "kernelspec": {
   "display_name": "Python 3.7.9 ('stringcompare')",
   "language": "python",
   "name": "python3"
  },
  "language_info": {
   "codemirror_mode": {
    "name": "ipython",
    "version": 3
   },
   "file_extension": ".py",
   "mimetype": "text/x-python",
   "name": "python",
   "nbconvert_exporter": "python",
   "pygments_lexer": "ipython3",
   "version": "3.7.9"
  },
  "orig_nbformat": 4
 },
 "nbformat": 4,
 "nbformat_minor": 2
}
