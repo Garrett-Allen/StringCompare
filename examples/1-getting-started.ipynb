{
 "cells": [
  {
   "cell_type": "markdown",
   "metadata": {},
   "source": [
    "# Getting Started with StringCompare"
   ]
  },
  {
   "cell_type": "markdown",
   "metadata": {},
   "source": [
    "**StringCompare** is a Python package providing efficient string comparison functions, such as [edit distances](https://en.wikipedia.org/wiki/Edit_distance), the [Jaro-Winkler distance](https://en.wikipedia.org/wiki/Jaro%E2%80%93Winkler_distance), and token-based similarity functions (e.g. the [Jaccard similarity index](https://en.wikipedia.org/wiki/Jaccard_index)).\n",
    "\n",
    "The package's backend is implemented in C++ for efficiency. Pure Python implementations are also provided for testing purposes."
   ]
  },
  {
   "cell_type": "markdown",
   "metadata": {},
   "source": [
    "## Installation\n",
    "\n",
    "The development version of **StringCompare** can be installed from Github using [pip](https://pypi.org/project/pip/):"
   ]
  },
  {
   "cell_type": "markdown",
   "metadata": {},
   "source": [
    "```bash\n",
    "    pip install git+https://github.com/OlivierBinette/StringCompare.git@dev\n",
    "```"
   ]
  },
  {
   "cell_type": "markdown",
   "metadata": {},
   "source": [
    "This will install [pybind11](https://pybind11.readthedocs.io/en/stable/) as a dependency. You can test the installation by running:"
   ]
  },
  {
   "cell_type": "markdown",
   "metadata": {},
   "source": [
    "```bash\n",
    "    python -c \"import stringcompare\"\n",
    "```"
   ]
  },
  {
   "cell_type": "markdown",
   "metadata": {},
   "source": [
    "If you don't see any error message, then Python was sucessfully able to load **StringCompare**.\n",
    "\n",
    "### Installation notes\n",
    "\n",
    "We recommended to use **StringCompare** with Python version at least 3.6. If you encounter installation issues, you may have to verify that [pybind11](https://pybind11.readthedocs.io/en/stable/) has been installed correctly for your system.\n",
    "\n",
    "On some linux systems, pybind11 is not compatible with the provided version of gcc. On Ubuntu 21.10, you have to run the following commands before installing **StringCompare**:"
   ]
  },
  {
   "cell_type": "markdown",
   "metadata": {},
   "source": [
    "```bash\n",
    "    sudo apt install gcc-9 g++-9\n",
    "    export CC=gcc-9 CXX=g++-9\n",
    "```"
   ]
  },
  {
   "cell_type": "markdown",
   "metadata": {},
   "source": [
    "You can then reinstall **StringCompare**:\n",
    "```bash\n",
    "    pip uninstall stringcompare\n",
    "    pip install git+https://github.com/OlivierBinette/StringCompare.git@dev\n",
    "```"
   ]
  },
  {
   "cell_type": "markdown",
   "metadata": {},
   "source": [
    "If you have persistent installation issues, then you should consider to run your python code within a [Docker](https://www.docker.com/) container. I recommend using the python:3.7.9 base image. For example, after installing docker, you can launch an interactive bash session and install **StringCompare** as follows:\n",
    "```bash\n",
    "    sudo docker run -it python:3.7.9 bash\n",
    "    git clone https://github.com/OlivierBinette/StringCompare.git\n",
    "    pip install -e ./StringCompare\n",
    "    python\n",
    "    >>> import stringcompare\n",
    "```\n",
    "\n",
    "Please report all installation issues [here](https://github.com/OlivierBinette/StringCompare/issues)."
   ]
  },
  {
   "cell_type": "markdown",
   "metadata": {},
   "source": [
    "## Structure of the package and its Usage"
   ]
  },
  {
   "cell_type": "markdown",
   "metadata": {},
   "source": [
    "**StringCompare** curently has one main module, the **distance** module, which contains string distances functions.\n",
    "\n",
    "Each string distance function is implemented as a class which can be instanciated with a certain set of parameters. The `compare()` function can then be used to compare strings. For example:"
   ]
  },
  {
   "cell_type": "code",
   "execution_count": 1,
   "metadata": {},
   "outputs": [
    {
     "ename": "ModuleNotFoundError",
     "evalue": "No module named 'stringcompare.preprocessing'",
     "output_type": "error",
     "traceback": [
      "\u001b[0;31m---------------------------------------------------------------------------\u001b[0m",
      "\u001b[0;31mModuleNotFoundError\u001b[0m                       Traceback (most recent call last)",
      "\u001b[0;32m/tmp/ipykernel_28687/1300856891.py\u001b[0m in \u001b[0;36m<module>\u001b[0;34m\u001b[0m\n\u001b[0;32m----> 1\u001b[0;31m \u001b[0;32mfrom\u001b[0m \u001b[0mstringcompare\u001b[0m \u001b[0;32mimport\u001b[0m \u001b[0mLevenshtein\u001b[0m\u001b[0;34m\u001b[0m\u001b[0;34m\u001b[0m\u001b[0m\n\u001b[0m\u001b[1;32m      2\u001b[0m \u001b[0;34m\u001b[0m\u001b[0m\n\u001b[1;32m      3\u001b[0m \u001b[0mcomparator\u001b[0m \u001b[0;34m=\u001b[0m \u001b[0mLevenshtein\u001b[0m\u001b[0;34m(\u001b[0m\u001b[0;34m)\u001b[0m\u001b[0;34m\u001b[0m\u001b[0;34m\u001b[0m\u001b[0m\n\u001b[1;32m      4\u001b[0m \u001b[0;34m\u001b[0m\u001b[0m\n\u001b[1;32m      5\u001b[0m \u001b[0mcomparator\u001b[0m\u001b[0;34m.\u001b[0m\u001b[0mcompare\u001b[0m\u001b[0;34m(\u001b[0m\u001b[0;34m\"Olivier\"\u001b[0m\u001b[0;34m,\u001b[0m \u001b[0;34m\"Olivia\"\u001b[0m\u001b[0;34m)\u001b[0m\u001b[0;34m\u001b[0m\u001b[0;34m\u001b[0m\u001b[0m\n",
      "\u001b[0;32m~/anaconda3/envs/stringcompare/lib/python3.7/site-packages/stringcompare/__init__.py\u001b[0m in \u001b[0;36m<module>\u001b[0;34m\u001b[0m\n\u001b[1;32m      1\u001b[0m \u001b[0;32mfrom\u001b[0m \u001b[0;34m.\u001b[0m\u001b[0mdistance\u001b[0m \u001b[0;32mimport\u001b[0m \u001b[0;34m*\u001b[0m\u001b[0;34m\u001b[0m\u001b[0;34m\u001b[0m\u001b[0m\n\u001b[0;32m----> 2\u001b[0;31m \u001b[0;32mfrom\u001b[0m \u001b[0;34m.\u001b[0m\u001b[0mpreprocessing\u001b[0m \u001b[0;32mimport\u001b[0m \u001b[0;34m*\u001b[0m\u001b[0;34m\u001b[0m\u001b[0;34m\u001b[0m\u001b[0m\n\u001b[0m\u001b[1;32m      3\u001b[0m \u001b[0;34m\u001b[0m\u001b[0m\n\u001b[1;32m      4\u001b[0m \u001b[0;32mimport\u001b[0m \u001b[0mpkg_resources\u001b[0m\u001b[0;34m\u001b[0m\u001b[0;34m\u001b[0m\u001b[0m\n\u001b[1;32m      5\u001b[0m \u001b[0;34m\u001b[0m\u001b[0m\n",
      "\u001b[0;31mModuleNotFoundError\u001b[0m: No module named 'stringcompare.preprocessing'"
     ]
    }
   ],
   "source": [
    "from stringcompare import Levenshtein\n",
    "\n",
    "comparator = Levenshtein()\n",
    "\n",
    "comparator.compare(\"Olivier\", \"Olivia\")"
   ]
  }
 ],
 "metadata": {
  "interpreter": {
   "hash": "ffde1200e4ba7c3d456f07f73c4ba4196efc164b0b303367a1e66ef1ff07a93f"
  },
  "kernelspec": {
   "display_name": "Python 3.7.9 ('stringcompare')",
   "language": "python",
   "name": "python3"
  },
  "language_info": {
   "codemirror_mode": {
    "name": "ipython",
    "version": 3
   },
   "file_extension": ".py",
   "mimetype": "text/x-python",
   "name": "python",
   "nbconvert_exporter": "python",
   "pygments_lexer": "ipython3",
   "version": "3.7.9"
  },
  "orig_nbformat": 4
 },
 "nbformat": 4,
 "nbformat_minor": 2
}
